{
  "nbformat": 4,
  "nbformat_minor": 0,
  "metadata": {
    "colab": {
      "name": "Untitled3.ipynb",
      "provenance": [],
      "collapsed_sections": []
    },
    "kernelspec": {
      "name": "python3",
      "display_name": "Python 3"
    }
  },
  "cells": [
    {
      "cell_type": "code",
      "metadata": {
        "colab": {
          "base_uri": "https://localhost:8080/"
        },
        "id": "cMvedrWGuBkV",
        "outputId": "c42c735a-9f96-45da-dd79-56af5e58c86e"
      },
      "source": [
        "from google.colab import drive\n",
        "drive.mount('/content/drive')"
      ],
      "execution_count": 1,
      "outputs": [
        {
          "output_type": "stream",
          "text": [
            "Drive already mounted at /content/drive; to attempt to forcibly remount, call drive.mount(\"/content/drive\", force_remount=True).\n"
          ],
          "name": "stdout"
        }
      ]
    },
    {
      "cell_type": "code",
      "metadata": {
        "id": "nCDSmoOSvuYi"
      },
      "source": [
        "import glob\n",
        "from skimage.io import imread\n",
        "import numpy as np\n",
        "import pandas as pd\n",
        "import h5py"
      ],
      "execution_count": 4,
      "outputs": []
    },
    {
      "cell_type": "code",
      "metadata": {
        "id": "IBJr2I-1yTJp"
      },
      "source": [
        "#! pip install tensorflow-gpu==1.10.0"
      ],
      "execution_count": null,
      "outputs": []
    },
    {
      "cell_type": "code",
      "metadata": {
        "id": "4yZo0aws0in2"
      },
      "source": [
        "from tensorflow.python.client import device_lib\n",
        "print(device_lib.list_local_devices())"
      ],
      "execution_count": null,
      "outputs": []
    },
    {
      "cell_type": "code",
      "metadata": {
        "id": "sWy4L_P_wGsT"
      },
      "source": [
        "f = h5py.File('/content/drive/MyDrive/teeth/NTP_3to5.h5','r')\n",
        "a = f['data'][:]\n",
        "# b = f['labels1']\n",
        "c = f['labels2'][:]\n",
        "f.close()"
      ],
      "execution_count": 5,
      "outputs": []
    },
    {
      "cell_type": "code",
      "metadata": {
        "id": "DxPxib2dwh8S"
      },
      "source": [
        "def combine(a,c):\n",
        "  comb=[]\n",
        "  for i in range(len(a)):\n",
        "      two=[a[i],c[i]]\n",
        "      comb.append(two)\n",
        "  return comb\n",
        "train_comb=combine(a,c)"
      ],
      "execution_count": 7,
      "outputs": []
    },
    {
      "cell_type": "code",
      "metadata": {
        "id": "2EuV-P6vrv4o"
      },
      "source": [
        "from sklearn.model_selection import train_test_split\n",
        "import random\n",
        "from tensorflow.keras.callbacks import ModelCheckpoint , EarlyStopping , CSVLogger ,ReduceLROnPlateau ,History\n",
        "from tensorflow.keras.optimizers import Adam,SGD"
      ],
      "execution_count": 8,
      "outputs": []
    },
    {
      "cell_type": "code",
      "metadata": {
        "id": "ZEAkslCVsK3M"
      },
      "source": [
        "train_data, vali_data = train_test_split(train_comb,random_state=0,shuffle=True,train_size=0.7)"
      ],
      "execution_count": 9,
      "outputs": []
    },
    {
      "cell_type": "code",
      "metadata": {
        "id": "CqZlTw7is-ce"
      },
      "source": [
        "from tensorflow.keras.applications.vgg16 import VGG16\n",
        "from tensorflow.keras.layers import Dense,Dropout,Conv2D,MaxPooling2D,Flatten\n",
        "from tensorflow.keras.models import Model"
      ],
      "execution_count": 10,
      "outputs": []
    },
    {
      "cell_type": "code",
      "metadata": {
        "id": "R0c3W1h6-0ri"
      },
      "source": [
        "def create_model():\n",
        "  model = VGG16(weights='imagenet', include_top=True)\n",
        "  model.layers.pop()\n",
        "  x = model.layers[-1].output\n",
        "  x=Dense(5, activation='relu')(x)\n",
        "  x=Dense(5, activation='softmax')(x)\n",
        "  # 重新建立模型結構\n",
        "  model=Model(model.input,x)\n",
        "  model.summary()\n",
        "  return model"
      ],
      "execution_count": 11,
      "outputs": []
    },
    {
      "cell_type": "markdown",
      "metadata": {
        "id": "9jBt_H1rHh6b"
      },
      "source": [
        "#以下是gpu的使用方法"
      ]
    },
    {
      "cell_type": "code",
      "metadata": {
        "id": "XQGKhkua7gm6",
        "colab": {
          "base_uri": "https://localhost:8080/"
        },
        "outputId": "1c249561-ac69-44bc-e210-e551fea0bf78"
      },
      "source": [
        "!export GCSFUSE_REPO=gcsfuse-`lsb_release -c -s`\n",
        "!echo \"deb http://packages.cloud.google.com/apt $GCSFUSE_REPO main\" | sudo tee /etc/apt/sources.list.d/gcsfuse.list\n",
        "!curl https://packages.cloud.google.com/apt/doc/apt-key.gpg | sudo apt-key add -\n",
        "\n",
        "!sudo apt-get update\n",
        "!sudo apt-get install gcsfuse"
      ],
      "execution_count": 12,
      "outputs": [
        {
          "output_type": "stream",
          "text": [
            "deb http://packages.cloud.google.com/apt  main\n",
            "  % Total    % Received % Xferd  Average Speed   Time    Time     Time  Current\n",
            "                                 Dload  Upload   Total   Spent    Left  Speed\n",
            "100  1974  100  1974    0     0  68068      0 --:--:-- --:--:-- --:--:-- 70500\n",
            "OK\n",
            "E: Malformed entry 1 in list file /etc/apt/sources.list.d/gcsfuse.list (Component)\n",
            "E: The list of sources could not be read.\n",
            "E: Malformed entry 1 in list file /etc/apt/sources.list.d/gcsfuse.list (Component)\n",
            "E: The list of sources could not be read.\n",
            "E: Malformed entry 1 in list file /etc/apt/sources.list.d/gcsfuse.list (Component)\n",
            "E: The list of sources could not be read.\n"
          ],
          "name": "stdout"
        }
      ]
    },
    {
      "cell_type": "code",
      "metadata": {
        "colab": {
          "base_uri": "https://localhost:8080/"
        },
        "id": "sxCeKIRa37JL",
        "outputId": "5d687f2f-324e-4bee-b9dd-2ee9ec63ca98"
      },
      "source": [
        "import os\n",
        "import pprint\n",
        "import tensorflow as tf\n",
        "\n",
        "if 'COLAB_TPU_ADDR' not in os.environ:\n",
        "    print('ERROR: Not connected to a TPU runtime')\n",
        "else:\n",
        "    tpu_address = 'grpc://' + os.environ['COLAB_TPU_ADDR']\n",
        "    print ('TPU address is', tpu_address)"
      ],
      "execution_count": 13,
      "outputs": [
        {
          "output_type": "stream",
          "text": [
            "TPU address is grpc://10.101.84.218:8470\n"
          ],
          "name": "stdout"
        }
      ]
    },
    {
      "cell_type": "code",
      "metadata": {
        "colab": {
          "base_uri": "https://localhost:8080/"
        },
        "id": "u7mmXE0f4ATK",
        "outputId": "2b229fa1-8610-49c5-a30b-b1517bbe4065"
      },
      "source": [
        "tpu = tf.distribute.cluster_resolver.TPUClusterResolver()\n",
        "#tpu=tf.distribute.TPUStrategy()\n",
        "tf.config.experimental_connect_to_cluster(tpu)\n",
        "tf.tpu.experimental.initialize_tpu_system(tpu)\n",
        "strategy = tf.distribute.experimental.TPUStrategy(tpu)\n",
        "with strategy.scope():\n",
        "  model = create_model()\n",
        "  model.compile( optimizer = Adam( lr = 1e-4 ) , \n",
        "              loss = 'categorical_crossentropy' , \n",
        "              metrics=['accuracy'] )"
      ],
      "execution_count": 15,
      "outputs": [
        {
          "output_type": "stream",
          "text": [
            "WARNING:tensorflow:TPU system grpc://10.101.84.218:8470 has already been initialized. Reinitializing the TPU can cause previously created variables on TPU to be lost.\n"
          ],
          "name": "stdout"
        },
        {
          "output_type": "stream",
          "text": [
            "WARNING:tensorflow:TPU system grpc://10.101.84.218:8470 has already been initialized. Reinitializing the TPU can cause previously created variables on TPU to be lost.\n"
          ],
          "name": "stderr"
        },
        {
          "output_type": "stream",
          "text": [
            "INFO:tensorflow:Initializing the TPU system: grpc://10.101.84.218:8470\n"
          ],
          "name": "stdout"
        },
        {
          "output_type": "stream",
          "text": [
            "INFO:tensorflow:Initializing the TPU system: grpc://10.101.84.218:8470\n"
          ],
          "name": "stderr"
        },
        {
          "output_type": "stream",
          "text": [
            "INFO:tensorflow:Clearing out eager caches\n"
          ],
          "name": "stdout"
        },
        {
          "output_type": "stream",
          "text": [
            "INFO:tensorflow:Clearing out eager caches\n"
          ],
          "name": "stderr"
        },
        {
          "output_type": "stream",
          "text": [
            "INFO:tensorflow:Finished initializing TPU system.\n"
          ],
          "name": "stdout"
        },
        {
          "output_type": "stream",
          "text": [
            "INFO:tensorflow:Finished initializing TPU system.\n",
            "WARNING:absl:`tf.distribute.experimental.TPUStrategy` is deprecated, please use  the non experimental symbol `tf.distribute.TPUStrategy` instead.\n"
          ],
          "name": "stderr"
        },
        {
          "output_type": "stream",
          "text": [
            "INFO:tensorflow:Found TPU system:\n"
          ],
          "name": "stdout"
        },
        {
          "output_type": "stream",
          "text": [
            "INFO:tensorflow:Found TPU system:\n"
          ],
          "name": "stderr"
        },
        {
          "output_type": "stream",
          "text": [
            "INFO:tensorflow:*** Num TPU Cores: 8\n"
          ],
          "name": "stdout"
        },
        {
          "output_type": "stream",
          "text": [
            "INFO:tensorflow:*** Num TPU Cores: 8\n"
          ],
          "name": "stderr"
        },
        {
          "output_type": "stream",
          "text": [
            "INFO:tensorflow:*** Num TPU Workers: 1\n"
          ],
          "name": "stdout"
        },
        {
          "output_type": "stream",
          "text": [
            "INFO:tensorflow:*** Num TPU Workers: 1\n"
          ],
          "name": "stderr"
        },
        {
          "output_type": "stream",
          "text": [
            "INFO:tensorflow:*** Num TPU Cores Per Worker: 8\n"
          ],
          "name": "stdout"
        },
        {
          "output_type": "stream",
          "text": [
            "INFO:tensorflow:*** Num TPU Cores Per Worker: 8\n"
          ],
          "name": "stderr"
        },
        {
          "output_type": "stream",
          "text": [
            "INFO:tensorflow:*** Available Device: _DeviceAttributes(/job:localhost/replica:0/task:0/device:CPU:0, CPU, 0, 0)\n"
          ],
          "name": "stdout"
        },
        {
          "output_type": "stream",
          "text": [
            "INFO:tensorflow:*** Available Device: _DeviceAttributes(/job:localhost/replica:0/task:0/device:CPU:0, CPU, 0, 0)\n"
          ],
          "name": "stderr"
        },
        {
          "output_type": "stream",
          "text": [
            "INFO:tensorflow:*** Available Device: _DeviceAttributes(/job:localhost/replica:0/task:0/device:XLA_CPU:0, XLA_CPU, 0, 0)\n"
          ],
          "name": "stdout"
        },
        {
          "output_type": "stream",
          "text": [
            "INFO:tensorflow:*** Available Device: _DeviceAttributes(/job:localhost/replica:0/task:0/device:XLA_CPU:0, XLA_CPU, 0, 0)\n"
          ],
          "name": "stderr"
        },
        {
          "output_type": "stream",
          "text": [
            "INFO:tensorflow:*** Available Device: _DeviceAttributes(/job:worker/replica:0/task:0/device:CPU:0, CPU, 0, 0)\n"
          ],
          "name": "stdout"
        },
        {
          "output_type": "stream",
          "text": [
            "INFO:tensorflow:*** Available Device: _DeviceAttributes(/job:worker/replica:0/task:0/device:CPU:0, CPU, 0, 0)\n"
          ],
          "name": "stderr"
        },
        {
          "output_type": "stream",
          "text": [
            "INFO:tensorflow:*** Available Device: _DeviceAttributes(/job:worker/replica:0/task:0/device:TPU:0, TPU, 0, 0)\n"
          ],
          "name": "stdout"
        },
        {
          "output_type": "stream",
          "text": [
            "INFO:tensorflow:*** Available Device: _DeviceAttributes(/job:worker/replica:0/task:0/device:TPU:0, TPU, 0, 0)\n"
          ],
          "name": "stderr"
        },
        {
          "output_type": "stream",
          "text": [
            "INFO:tensorflow:*** Available Device: _DeviceAttributes(/job:worker/replica:0/task:0/device:TPU:1, TPU, 0, 0)\n"
          ],
          "name": "stdout"
        },
        {
          "output_type": "stream",
          "text": [
            "INFO:tensorflow:*** Available Device: _DeviceAttributes(/job:worker/replica:0/task:0/device:TPU:1, TPU, 0, 0)\n"
          ],
          "name": "stderr"
        },
        {
          "output_type": "stream",
          "text": [
            "INFO:tensorflow:*** Available Device: _DeviceAttributes(/job:worker/replica:0/task:0/device:TPU:2, TPU, 0, 0)\n"
          ],
          "name": "stdout"
        },
        {
          "output_type": "stream",
          "text": [
            "INFO:tensorflow:*** Available Device: _DeviceAttributes(/job:worker/replica:0/task:0/device:TPU:2, TPU, 0, 0)\n"
          ],
          "name": "stderr"
        },
        {
          "output_type": "stream",
          "text": [
            "INFO:tensorflow:*** Available Device: _DeviceAttributes(/job:worker/replica:0/task:0/device:TPU:3, TPU, 0, 0)\n"
          ],
          "name": "stdout"
        },
        {
          "output_type": "stream",
          "text": [
            "INFO:tensorflow:*** Available Device: _DeviceAttributes(/job:worker/replica:0/task:0/device:TPU:3, TPU, 0, 0)\n"
          ],
          "name": "stderr"
        },
        {
          "output_type": "stream",
          "text": [
            "INFO:tensorflow:*** Available Device: _DeviceAttributes(/job:worker/replica:0/task:0/device:TPU:4, TPU, 0, 0)\n"
          ],
          "name": "stdout"
        },
        {
          "output_type": "stream",
          "text": [
            "INFO:tensorflow:*** Available Device: _DeviceAttributes(/job:worker/replica:0/task:0/device:TPU:4, TPU, 0, 0)\n"
          ],
          "name": "stderr"
        },
        {
          "output_type": "stream",
          "text": [
            "INFO:tensorflow:*** Available Device: _DeviceAttributes(/job:worker/replica:0/task:0/device:TPU:5, TPU, 0, 0)\n"
          ],
          "name": "stdout"
        },
        {
          "output_type": "stream",
          "text": [
            "INFO:tensorflow:*** Available Device: _DeviceAttributes(/job:worker/replica:0/task:0/device:TPU:5, TPU, 0, 0)\n"
          ],
          "name": "stderr"
        },
        {
          "output_type": "stream",
          "text": [
            "INFO:tensorflow:*** Available Device: _DeviceAttributes(/job:worker/replica:0/task:0/device:TPU:6, TPU, 0, 0)\n"
          ],
          "name": "stdout"
        },
        {
          "output_type": "stream",
          "text": [
            "INFO:tensorflow:*** Available Device: _DeviceAttributes(/job:worker/replica:0/task:0/device:TPU:6, TPU, 0, 0)\n"
          ],
          "name": "stderr"
        },
        {
          "output_type": "stream",
          "text": [
            "INFO:tensorflow:*** Available Device: _DeviceAttributes(/job:worker/replica:0/task:0/device:TPU:7, TPU, 0, 0)\n"
          ],
          "name": "stdout"
        },
        {
          "output_type": "stream",
          "text": [
            "INFO:tensorflow:*** Available Device: _DeviceAttributes(/job:worker/replica:0/task:0/device:TPU:7, TPU, 0, 0)\n"
          ],
          "name": "stderr"
        },
        {
          "output_type": "stream",
          "text": [
            "INFO:tensorflow:*** Available Device: _DeviceAttributes(/job:worker/replica:0/task:0/device:TPU_SYSTEM:0, TPU_SYSTEM, 0, 0)\n"
          ],
          "name": "stdout"
        },
        {
          "output_type": "stream",
          "text": [
            "INFO:tensorflow:*** Available Device: _DeviceAttributes(/job:worker/replica:0/task:0/device:TPU_SYSTEM:0, TPU_SYSTEM, 0, 0)\n"
          ],
          "name": "stderr"
        },
        {
          "output_type": "stream",
          "text": [
            "INFO:tensorflow:*** Available Device: _DeviceAttributes(/job:worker/replica:0/task:0/device:XLA_CPU:0, XLA_CPU, 0, 0)\n"
          ],
          "name": "stdout"
        },
        {
          "output_type": "stream",
          "text": [
            "INFO:tensorflow:*** Available Device: _DeviceAttributes(/job:worker/replica:0/task:0/device:XLA_CPU:0, XLA_CPU, 0, 0)\n"
          ],
          "name": "stderr"
        },
        {
          "output_type": "stream",
          "text": [
            "Model: \"functional_3\"\n",
            "_________________________________________________________________\n",
            "Layer (type)                 Output Shape              Param #   \n",
            "=================================================================\n",
            "input_2 (InputLayer)         [(None, 224, 224, 3)]     0         \n",
            "_________________________________________________________________\n",
            "block1_conv1 (Conv2D)        (None, 224, 224, 64)      1792      \n",
            "_________________________________________________________________\n",
            "block1_conv2 (Conv2D)        (None, 224, 224, 64)      36928     \n",
            "_________________________________________________________________\n",
            "block1_pool (MaxPooling2D)   (None, 112, 112, 64)      0         \n",
            "_________________________________________________________________\n",
            "block2_conv1 (Conv2D)        (None, 112, 112, 128)     73856     \n",
            "_________________________________________________________________\n",
            "block2_conv2 (Conv2D)        (None, 112, 112, 128)     147584    \n",
            "_________________________________________________________________\n",
            "block2_pool (MaxPooling2D)   (None, 56, 56, 128)       0         \n",
            "_________________________________________________________________\n",
            "block3_conv1 (Conv2D)        (None, 56, 56, 256)       295168    \n",
            "_________________________________________________________________\n",
            "block3_conv2 (Conv2D)        (None, 56, 56, 256)       590080    \n",
            "_________________________________________________________________\n",
            "block3_conv3 (Conv2D)        (None, 56, 56, 256)       590080    \n",
            "_________________________________________________________________\n",
            "block3_pool (MaxPooling2D)   (None, 28, 28, 256)       0         \n",
            "_________________________________________________________________\n",
            "block4_conv1 (Conv2D)        (None, 28, 28, 512)       1180160   \n",
            "_________________________________________________________________\n",
            "block4_conv2 (Conv2D)        (None, 28, 28, 512)       2359808   \n",
            "_________________________________________________________________\n",
            "block4_conv3 (Conv2D)        (None, 28, 28, 512)       2359808   \n",
            "_________________________________________________________________\n",
            "block4_pool (MaxPooling2D)   (None, 14, 14, 512)       0         \n",
            "_________________________________________________________________\n",
            "block5_conv1 (Conv2D)        (None, 14, 14, 512)       2359808   \n",
            "_________________________________________________________________\n",
            "block5_conv2 (Conv2D)        (None, 14, 14, 512)       2359808   \n",
            "_________________________________________________________________\n",
            "block5_conv3 (Conv2D)        (None, 14, 14, 512)       2359808   \n",
            "_________________________________________________________________\n",
            "block5_pool (MaxPooling2D)   (None, 7, 7, 512)         0         \n",
            "_________________________________________________________________\n",
            "flatten (Flatten)            (None, 25088)             0         \n",
            "_________________________________________________________________\n",
            "fc1 (Dense)                  (None, 4096)              102764544 \n",
            "_________________________________________________________________\n",
            "fc2 (Dense)                  (None, 4096)              16781312  \n",
            "_________________________________________________________________\n",
            "predictions (Dense)          (None, 1000)              4097000   \n",
            "_________________________________________________________________\n",
            "dense_2 (Dense)              (None, 5)                 5005      \n",
            "_________________________________________________________________\n",
            "dense_3 (Dense)              (None, 5)                 30        \n",
            "=================================================================\n",
            "Total params: 138,362,579\n",
            "Trainable params: 138,362,579\n",
            "Non-trainable params: 0\n",
            "_________________________________________________________________\n"
          ],
          "name": "stdout"
        }
      ]
    },
    {
      "cell_type": "markdown",
      "metadata": {
        "id": "8b7c5UfQHrPD"
      },
      "source": [
        "開始訓練"
      ]
    },
    {
      "cell_type": "code",
      "metadata": {
        "id": "pba_8LDxtZR3"
      },
      "source": [
        "epoch = 50000000\n",
        "batch_size = 4\n",
        "steps_per_epoch = int( np.ceil( len( train_data )*batch_size ) )\n",
        "validation_steps = int( np.ceil( len(vali_data )*batch_size ) )\n",
        "model_path =   '/content/drive/MyDrive/teeth/saved_models/NTP-3to5.h5' \n",
        "check_point = ModelCheckpoint( model_path,monitor='val_loss' , \n",
        "                              save_best_only= True , verbose = 1)\n",
        "csv_logger = CSVLogger( '/content/drive/MyDrive/teeth/logs/NTP-3to5.log '  )\n",
        "#es = EarlyStopping(monitor='val_loss', mode='min', verbose=1, \n",
        "#                   patience=40, min_delta=0.0001)\n",
        "reduce_lr = ReduceLROnPlateau(monitor='val_loss', factor=0.2,\n",
        "                              patience=50, min_lr=0.0001)"
      ],
      "execution_count": 21,
      "outputs": []
    },
    {
      "cell_type": "code",
      "metadata": {
        "id": "PfLdJfdgBlzj"
      },
      "source": [
        "x_train=[]\n",
        "y_train=[]\n",
        "x_vail=[]\n",
        "y_vail=[]\n",
        "for i in range(len(train_data)):\n",
        "  x_train.append(train_data[i][0])\n",
        "  y_train.append(train_data[i][1])\n",
        "x_train=np.stack(x_train)\n",
        "y_train=np.stack(y_train)\n",
        "for i in range(len(vali_data)):\n",
        "  x_vail.append(vali_data[i][0])\n",
        "  y_vail.append(vali_data[i][1])\n",
        "x_vail=np.stack(x_vail)\n",
        "y_vail=np.stack(y_vail)"
      ],
      "execution_count": 17,
      "outputs": []
    },
    {
      "cell_type": "code",
      "metadata": {
        "colab": {
          "base_uri": "https://localhost:8080/"
        },
        "id": "RTV9TAeYG5V4",
        "outputId": "48a0a4de-d5d9-4639-885b-5cec2f3c0d94"
      },
      "source": [
        "model.fit( x=(x_train),y=(y_train), \n",
        "          epochs=epoch , \n",
        "          batch_size=40,\n",
        "          verbose=True , \n",
        "          steps_per_epoch=steps_per_epoch  , \n",
        "          callbacks=[ check_point , csv_logger , reduce_lr ] , \n",
        "          validation_data=((x_vail),(y_vail)),\n",
        "          validation_steps = validation_steps)"
      ],
      "execution_count": 23,
      "outputs": [
        {
          "output_type": "stream",
          "text": [
            "Epoch 1/50000000\n",
            "   2/2468 [..............................] - ETA: 2:09 - loss: 1.5777 - accuracy: 0.2625WARNING:tensorflow:Callbacks method `on_train_batch_end` is slow compared to the batch time (batch time: 0.0038s vs `on_train_batch_end` time: 0.0987s). Check your callbacks.\n"
          ],
          "name": "stdout"
        },
        {
          "output_type": "stream",
          "text": [
            "WARNING:tensorflow:Callbacks method `on_train_batch_end` is slow compared to the batch time (batch time: 0.0038s vs `on_train_batch_end` time: 0.0987s). Check your callbacks.\n"
          ],
          "name": "stderr"
        },
        {
          "output_type": "stream",
          "text": [
            "2468/2468 [==============================] - ETA: 0s - loss: 1.5092 - accuracy: 0.3290WARNING:tensorflow:Callbacks method `on_test_batch_end` is slow compared to the batch time (batch time: 0.0018s vs `on_test_batch_end` time: 0.0180s). Check your callbacks.\n"
          ],
          "name": "stdout"
        },
        {
          "output_type": "stream",
          "text": [
            "WARNING:tensorflow:Callbacks method `on_test_batch_end` is slow compared to the batch time (batch time: 0.0018s vs `on_test_batch_end` time: 0.0180s). Check your callbacks.\n"
          ],
          "name": "stderr"
        },
        {
          "output_type": "stream",
          "text": [
            "\n",
            "Epoch 00001: val_loss improved from inf to 1.53415, saving model to /content/drive/MyDrive/teeth/saved_models/NTP-3to5.h5\n",
            "2468/2468 [==============================] - 279s 113ms/step - loss: 1.5092 - accuracy: 0.3290 - val_loss: 1.5341 - val_accuracy: 0.3208\n",
            "Epoch 2/50000000\n",
            "2468/2468 [==============================] - ETA: 0s - loss: 1.5079 - accuracy: 0.3290\n",
            "Epoch 00002: val_loss improved from 1.53415 to 1.53397, saving model to /content/drive/MyDrive/teeth/saved_models/NTP-3to5.h5\n",
            "2468/2468 [==============================] - 274s 111ms/step - loss: 1.5079 - accuracy: 0.3290 - val_loss: 1.5340 - val_accuracy: 0.3208\n",
            "Epoch 3/50000000\n",
            "2468/2468 [==============================] - ETA: 0s - loss: 1.5077 - accuracy: 0.3291\n",
            "Epoch 00003: val_loss improved from 1.53397 to 1.53377, saving model to /content/drive/MyDrive/teeth/saved_models/NTP-3to5.h5\n",
            "2468/2468 [==============================] - 274s 111ms/step - loss: 1.5077 - accuracy: 0.3291 - val_loss: 1.5338 - val_accuracy: 0.3208\n",
            "Epoch 4/50000000\n",
            "2468/2468 [==============================] - ETA: 0s - loss: 1.5078 - accuracy: 0.3290\n",
            "Epoch 00004: val_loss did not improve from 1.53377\n",
            "2468/2468 [==============================] - 256s 104ms/step - loss: 1.5078 - accuracy: 0.3290 - val_loss: 1.5339 - val_accuracy: 0.3208\n",
            "Epoch 5/50000000\n",
            "2468/2468 [==============================] - ETA: 0s - loss: 1.5078 - accuracy: 0.3290\n",
            "Epoch 00005: val_loss improved from 1.53377 to 1.53375, saving model to /content/drive/MyDrive/teeth/saved_models/NTP-3to5.h5\n",
            "2468/2468 [==============================] - 273s 111ms/step - loss: 1.5078 - accuracy: 0.3290 - val_loss: 1.5337 - val_accuracy: 0.3208\n",
            "Epoch 6/50000000\n",
            "2468/2468 [==============================] - ETA: 0s - loss: 1.5078 - accuracy: 0.3290\n",
            "Epoch 00006: val_loss did not improve from 1.53375\n",
            "2468/2468 [==============================] - 256s 104ms/step - loss: 1.5078 - accuracy: 0.3290 - val_loss: 1.5338 - val_accuracy: 0.3208\n",
            "Epoch 7/50000000\n",
            "2468/2468 [==============================] - ETA: 0s - loss: 1.5077 - accuracy: 0.3291\n",
            "Epoch 00007: val_loss improved from 1.53375 to 1.53367, saving model to /content/drive/MyDrive/teeth/saved_models/NTP-3to5.h5\n",
            "2468/2468 [==============================] - 274s 111ms/step - loss: 1.5077 - accuracy: 0.3291 - val_loss: 1.5337 - val_accuracy: 0.3208\n",
            "Epoch 8/50000000\n",
            "2468/2468 [==============================] - ETA: 0s - loss: 1.5078 - accuracy: 0.3290\n",
            "Epoch 00008: val_loss did not improve from 1.53367\n",
            "2468/2468 [==============================] - 256s 104ms/step - loss: 1.5078 - accuracy: 0.3290 - val_loss: 1.5338 - val_accuracy: 0.3208\n",
            "Epoch 9/50000000\n",
            "2468/2468 [==============================] - ETA: 0s - loss: 1.5078 - accuracy: 0.3289\n",
            "Epoch 00009: val_loss did not improve from 1.53367\n",
            "2468/2468 [==============================] - 253s 102ms/step - loss: 1.5078 - accuracy: 0.3289 - val_loss: 1.5338 - val_accuracy: 0.3208\n",
            "Epoch 10/50000000\n",
            "2468/2468 [==============================] - ETA: 0s - loss: 1.5078 - accuracy: 0.3290\n",
            "Epoch 00010: val_loss improved from 1.53367 to 1.53366, saving model to /content/drive/MyDrive/teeth/saved_models/NTP-3to5.h5\n",
            "2468/2468 [==============================] - 273s 110ms/step - loss: 1.5078 - accuracy: 0.3290 - val_loss: 1.5337 - val_accuracy: 0.3208\n",
            "Epoch 11/50000000\n",
            "2468/2468 [==============================] - ETA: 0s - loss: 1.5077 - accuracy: 0.3291\n",
            "Epoch 00011: val_loss did not improve from 1.53366\n",
            "2468/2468 [==============================] - 256s 104ms/step - loss: 1.5077 - accuracy: 0.3291 - val_loss: 1.5338 - val_accuracy: 0.3208\n",
            "Epoch 12/50000000\n",
            "2468/2468 [==============================] - ETA: 0s - loss: 1.5078 - accuracy: 0.3290\n",
            "Epoch 00012: val_loss did not improve from 1.53366\n",
            "2468/2468 [==============================] - 253s 102ms/step - loss: 1.5078 - accuracy: 0.3290 - val_loss: 1.5337 - val_accuracy: 0.3208\n",
            "Epoch 13/50000000\n",
            "2468/2468 [==============================] - ETA: 0s - loss: 1.5078 - accuracy: 0.3291\n",
            "Epoch 00013: val_loss did not improve from 1.53366\n",
            "2468/2468 [==============================] - 253s 103ms/step - loss: 1.5078 - accuracy: 0.3291 - val_loss: 1.5338 - val_accuracy: 0.3208\n",
            "Epoch 14/50000000\n",
            "2468/2468 [==============================] - ETA: 0s - loss: 1.5078 - accuracy: 0.3289\n",
            "Epoch 00014: val_loss did not improve from 1.53366\n",
            "2468/2468 [==============================] - 253s 102ms/step - loss: 1.5078 - accuracy: 0.3289 - val_loss: 1.5337 - val_accuracy: 0.3208\n",
            "Epoch 15/50000000\n",
            "2468/2468 [==============================] - ETA: 0s - loss: 1.5078 - accuracy: 0.3290\n",
            "Epoch 00015: val_loss did not improve from 1.53366\n",
            "2468/2468 [==============================] - 252s 102ms/step - loss: 1.5078 - accuracy: 0.3290 - val_loss: 1.5337 - val_accuracy: 0.3208\n",
            "Epoch 16/50000000\n",
            "2468/2468 [==============================] - ETA: 0s - loss: 1.5078 - accuracy: 0.3290\n",
            "Epoch 00016: val_loss did not improve from 1.53366\n",
            "2468/2468 [==============================] - 253s 103ms/step - loss: 1.5078 - accuracy: 0.3290 - val_loss: 1.5338 - val_accuracy: 0.3208\n",
            "Epoch 17/50000000\n",
            "2468/2468 [==============================] - ETA: 0s - loss: 1.5078 - accuracy: 0.3289\n",
            "Epoch 00017: val_loss did not improve from 1.53366\n",
            "2468/2468 [==============================] - 253s 103ms/step - loss: 1.5078 - accuracy: 0.3289 - val_loss: 1.5338 - val_accuracy: 0.3208\n",
            "Epoch 18/50000000\n",
            "2468/2468 [==============================] - ETA: 0s - loss: 1.5077 - accuracy: 0.3292\n",
            "Epoch 00018: val_loss did not improve from 1.53366\n",
            "2468/2468 [==============================] - 253s 103ms/step - loss: 1.5077 - accuracy: 0.3292 - val_loss: 1.5338 - val_accuracy: 0.3208\n",
            "Epoch 19/50000000\n",
            "2468/2468 [==============================] - ETA: 0s - loss: 1.5079 - accuracy: 0.3289\n",
            "Epoch 00019: val_loss did not improve from 1.53366\n",
            "2468/2468 [==============================] - 253s 102ms/step - loss: 1.5079 - accuracy: 0.3289 - val_loss: 1.5337 - val_accuracy: 0.3208\n",
            "Epoch 20/50000000\n",
            "2468/2468 [==============================] - ETA: 0s - loss: 1.5077 - accuracy: 0.3291\n",
            "Epoch 00020: val_loss did not improve from 1.53366\n",
            "2468/2468 [==============================] - 252s 102ms/step - loss: 1.5077 - accuracy: 0.3291 - val_loss: 1.5338 - val_accuracy: 0.3208\n",
            "Epoch 21/50000000\n",
            "2468/2468 [==============================] - ETA: 0s - loss: 1.5077 - accuracy: 0.3291\n",
            "Epoch 00021: val_loss did not improve from 1.53366\n",
            "2468/2468 [==============================] - 252s 102ms/step - loss: 1.5077 - accuracy: 0.3291 - val_loss: 1.5338 - val_accuracy: 0.3208\n",
            "Epoch 22/50000000\n",
            "2468/2468 [==============================] - ETA: 0s - loss: 1.5079 - accuracy: 0.3290\n",
            "Epoch 00022: val_loss did not improve from 1.53366\n",
            "2468/2468 [==============================] - 252s 102ms/step - loss: 1.5079 - accuracy: 0.3290 - val_loss: 1.5337 - val_accuracy: 0.3208\n",
            "Epoch 23/50000000\n",
            "2468/2468 [==============================] - ETA: 0s - loss: 1.5078 - accuracy: 0.3290\n",
            "Epoch 00023: val_loss did not improve from 1.53366\n",
            "2468/2468 [==============================] - 252s 102ms/step - loss: 1.5078 - accuracy: 0.3290 - val_loss: 1.5339 - val_accuracy: 0.3208\n",
            "Epoch 24/50000000\n",
            "1055/2468 [===========>..................] - ETA: 2:22 - loss: 1.5079 - accuracy: 0.3290Buffered data was truncated after reaching the output size limit."
          ],
          "name": "stdout"
        }
      ]
    },
    {
      "cell_type": "code",
      "metadata": {
        "id": "NOIBpHbu8t8y"
      },
      "source": [
        "#result = model.fit_generator( data_gen , epochs=epoch , verbose=True , \n",
        "#                              steps_per_epoch=steps_per_epoch  , \n",
        "#                              callbacks=[ check_point , csv_logger , reduce_lr ] , \n",
        "#                              validation_data = val_data,validation_steps = validation_steps)"
      ],
      "execution_count": null,
      "outputs": []
    },
    {
      "cell_type": "code",
      "metadata": {
        "id": "VB7ZUihkyoxn"
      },
      "source": [
        "#! pip install tensorflow-gpu==2.0.0"
      ],
      "execution_count": null,
      "outputs": []
    }
  ]
}